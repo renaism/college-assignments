{
 "cells": [
  {
   "cell_type": "code",
   "execution_count": 1,
   "metadata": {},
   "outputs": [],
   "source": [
    "import csv\n",
    "from pprint import pprint\n",
    "from math import log, exp"
   ]
  },
  {
   "cell_type": "code",
   "execution_count": 2,
   "metadata": {},
   "outputs": [],
   "source": [
    "TRAINSET = \"TrainsetTugas1ML.csv\"\n",
    "TESTSET = \"TestsetTugas1ML.csv\"\n",
    "TEBAKAN = \"TebakanTugas1ML.csv\"\n",
    "OUTPUT_ATTR = \"income\""
   ]
  },
  {
   "cell_type": "code",
   "execution_count": 3,
   "metadata": {},
   "outputs": [],
   "source": [
    "def read_dict_from_csv(csv_file):\n",
    "    with open(csv_file) as cf:\n",
    "        csv_reader = csv.DictReader(cf, skipinitialspace=True)\n",
    "        data = [dict(row) for row in csv_reader]\n",
    "    return data"
   ]
  },
  {
   "cell_type": "code",
   "execution_count": 4,
   "metadata": {},
   "outputs": [],
   "source": [
    "def write_list_to_csv(csv_file, data):\n",
    "    with open(csv_file, mode='w') as cf:\n",
    "        for d in data: cf.write(d + '\\n')"
   ]
  },
  {
   "cell_type": "code",
   "execution_count": 5,
   "metadata": {},
   "outputs": [
    {
     "data": {
      "text/plain": [
       "[{'id': '4776',\n",
       "  'age': 'young',\n",
       "  'workclass': 'Private',\n",
       "  'education': 'Some-college',\n",
       "  'marital-status': 'Married-civ-spouse',\n",
       "  'occupation': 'Prof-specialty',\n",
       "  'relationship': 'Husband',\n",
       "  'hours-per-week': 'normal',\n",
       "  'income': '>50K'},\n",
       " {'id': '8173',\n",
       "  'age': 'adult',\n",
       "  'workclass': 'Private',\n",
       "  'education': 'Bachelors',\n",
       "  'marital-status': 'Never-married',\n",
       "  'occupation': 'Prof-specialty',\n",
       "  'relationship': 'Not-in-family',\n",
       "  'hours-per-week': 'normal',\n",
       "  'income': '>50K'},\n",
       " {'id': '23423',\n",
       "  'age': 'young',\n",
       "  'workclass': 'Private',\n",
       "  'education': 'Some-college',\n",
       "  'marital-status': 'Married-civ-spouse',\n",
       "  'occupation': 'Prof-specialty',\n",
       "  'relationship': 'Husband',\n",
       "  'hours-per-week': 'normal',\n",
       "  'income': '>50K'},\n",
       " {'id': '1818',\n",
       "  'age': 'adult',\n",
       "  'workclass': 'Private',\n",
       "  'education': 'HS-grad',\n",
       "  'marital-status': 'Married-civ-spouse',\n",
       "  'occupation': 'Craft-repair',\n",
       "  'relationship': 'Husband',\n",
       "  'hours-per-week': 'normal',\n",
       "  'income': '<=50K'},\n",
       " {'id': '14894',\n",
       "  'age': 'adult',\n",
       "  'workclass': 'Private',\n",
       "  'education': 'Bachelors',\n",
       "  'marital-status': 'Divorced',\n",
       "  'occupation': 'Exec-managerial',\n",
       "  'relationship': 'Not-in-family',\n",
       "  'hours-per-week': 'normal',\n",
       "  'income': '>50K'},\n",
       " {'id': '13128',\n",
       "  'age': 'adult',\n",
       "  'workclass': 'Local-gov',\n",
       "  'education': 'Bachelors',\n",
       "  'marital-status': 'Married-civ-spouse',\n",
       "  'occupation': 'Prof-specialty',\n",
       "  'relationship': 'Husband',\n",
       "  'hours-per-week': 'normal',\n",
       "  'income': '>50K'},\n",
       " {'id': '29619',\n",
       "  'age': 'adult',\n",
       "  'workclass': 'Private',\n",
       "  'education': 'Some-college',\n",
       "  'marital-status': 'Married-civ-spouse',\n",
       "  'occupation': 'Prof-specialty',\n",
       "  'relationship': 'Husband',\n",
       "  'hours-per-week': 'normal',\n",
       "  'income': '>50K'},\n",
       " {'id': '2308',\n",
       "  'age': 'adult',\n",
       "  'workclass': 'Private',\n",
       "  'education': 'Bachelors',\n",
       "  'marital-status': 'Married-civ-spouse',\n",
       "  'occupation': 'Prof-specialty',\n",
       "  'relationship': 'Husband',\n",
       "  'hours-per-week': 'normal',\n",
       "  'income': '>50K'},\n",
       " {'id': '9606',\n",
       "  'age': 'adult',\n",
       "  'workclass': 'Self-emp-not-inc',\n",
       "  'education': 'Some-college',\n",
       "  'marital-status': 'Divorced',\n",
       "  'occupation': 'Craft-repair',\n",
       "  'relationship': 'Not-in-family',\n",
       "  'hours-per-week': 'normal',\n",
       "  'income': '<=50K'},\n",
       " {'id': '15394',\n",
       "  'age': 'adult',\n",
       "  'workclass': 'Private',\n",
       "  'education': 'Bachelors',\n",
       "  'marital-status': 'Married-civ-spouse',\n",
       "  'occupation': 'Exec-managerial',\n",
       "  'relationship': 'Husband',\n",
       "  'hours-per-week': 'normal',\n",
       "  'income': '>50K'}]"
      ]
     },
     "execution_count": 5,
     "metadata": {},
     "output_type": "execute_result"
    }
   ],
   "source": [
    "train_data = read_dict_from_csv(TRAINSET)\n",
    "train_data[:10]"
   ]
  },
  {
   "cell_type": "code",
   "execution_count": 6,
   "metadata": {},
   "outputs": [
    {
     "data": {
      "text/plain": [
       "{'age': {'adult', 'old', 'young'},\n",
       " 'workclass': {'Local-gov', 'Private', 'Self-emp-not-inc'},\n",
       " 'education': {'Bachelors', 'HS-grad', 'Some-college'},\n",
       " 'marital-status': {'Divorced', 'Married-civ-spouse', 'Never-married'},\n",
       " 'occupation': {'Craft-repair', 'Exec-managerial', 'Prof-specialty'},\n",
       " 'relationship': {'Husband', 'Not-in-family', 'Own-child'},\n",
       " 'hours-per-week': {'low', 'many', 'normal'}}"
      ]
     },
     "execution_count": 6,
     "metadata": {},
     "output_type": "execute_result"
    }
   ],
   "source": [
    "attributes = {attr: set(d[attr] for d in train_data) for attr in train_data[0] if attr not in {\"id\", OUTPUT_ATTR}}\n",
    "attributes"
   ]
  },
  {
   "cell_type": "code",
   "execution_count": 7,
   "metadata": {},
   "outputs": [
    {
     "data": {
      "text/plain": [
       "{'<=50K', '>50K'}"
      ]
     },
     "execution_count": 7,
     "metadata": {},
     "output_type": "execute_result"
    }
   ],
   "source": [
    "output_classes = set(d[OUTPUT_ATTR] for d in train_data)\n",
    "output_classes"
   ]
  },
  {
   "cell_type": "code",
   "execution_count": 8,
   "metadata": {},
   "outputs": [
    {
     "data": {
      "text/plain": [
       "{'<=50K': 40, '>50K': 120}"
      ]
     },
     "execution_count": 8,
     "metadata": {},
     "output_type": "execute_result"
    }
   ],
   "source": [
    "output_frequency = {out: sum(1 for d in train_data if d[OUTPUT_ATTR] == out) for out in output_classes}\n",
    "output_frequency"
   ]
  },
  {
   "cell_type": "code",
   "execution_count": 9,
   "metadata": {},
   "outputs": [
    {
     "data": {
      "text/plain": [
       "{'<=50K': 0.25, '>50K': 0.75}"
      ]
     },
     "execution_count": 9,
     "metadata": {},
     "output_type": "execute_result"
    }
   ],
   "source": [
    "output_probability = {out: output_frequency[out] / len(train_data) for out in output_classes}\n",
    "output_probability"
   ]
  },
  {
   "cell_type": "code",
   "execution_count": 10,
   "metadata": {
    "scrolled": true
   },
   "outputs": [
    {
     "name": "stdout",
     "output_type": "stream",
     "text": [
      "{'age': {'adult': {'<=50K': 0.475, '>50K': 0.44166666666666665},\n",
      "         'old': {'<=50K': 0.025, '>50K': 0.008333333333333333},\n",
      "         'young': {'<=50K': 0.5, '>50K': 0.55}},\n",
      " 'education': {'Bachelors': {'<=50K': 0.175, '>50K': 0.5416666666666666},\n",
      "               'HS-grad': {'<=50K': 0.425, '>50K': 0.23333333333333334},\n",
      "               'Some-college': {'<=50K': 0.4, '>50K': 0.225}},\n",
      " 'hours-per-week': {'low': {'<=50K': 0.125, '>50K': 0.025},\n",
      "                    'many': {'<=50K': 0.05, '>50K': 0.008333333333333333},\n",
      "                    'normal': {'<=50K': 0.825, '>50K': 0.9666666666666667}},\n",
      " 'marital-status': {'Divorced': {'<=50K': 0.175, '>50K': 0.041666666666666664},\n",
      "                    'Married-civ-spouse': {'<=50K': 0.475, '>50K': 0.9},\n",
      "                    'Never-married': {'<=50K': 0.35,\n",
      "                                      '>50K': 0.058333333333333334}},\n",
      " 'occupation': {'Craft-repair': {'<=50K': 0.525, '>50K': 0.26666666666666666},\n",
      "                'Exec-managerial': {'<=50K': 0.375,\n",
      "                                    '>50K': 0.39166666666666666},\n",
      "                'Prof-specialty': {'<=50K': 0.1, '>50K': 0.3416666666666667}},\n",
      " 'relationship': {'Husband': {'<=50K': 0.475, '>50K': 0.8916666666666667},\n",
      "                  'Not-in-family': {'<=50K': 0.35, '>50K': 0.09166666666666666},\n",
      "                  'Own-child': {'<=50K': 0.175, '>50K': 0.016666666666666666}},\n",
      " 'workclass': {'Local-gov': {'<=50K': 0.025, '>50K': 0.06666666666666667},\n",
      "               'Private': {'<=50K': 0.8, '>50K': 0.875},\n",
      "               'Self-emp-not-inc': {'<=50K': 0.175,\n",
      "                                    '>50K': 0.058333333333333334}}}\n"
     ]
    }
   ],
   "source": [
    "class_probability = {\n",
    "    attr: {\n",
    "        cls: {\n",
    "            out: sum(1 for d in train_data if d[attr] == cls and d[OUTPUT_ATTR] == out) / output_frequency[out] \n",
    "            for out in output_classes\n",
    "        } for cls in attributes[attr]\n",
    "    } for attr in attributes\n",
    "}\n",
    "pprint(class_probability)"
   ]
  },
  {
   "cell_type": "code",
   "execution_count": 11,
   "metadata": {},
   "outputs": [
    {
     "data": {
      "text/plain": [
       "[{'id': '26027',\n",
       "  'age': 'young',\n",
       "  'workclass': 'Private',\n",
       "  'education': 'HS-grad',\n",
       "  'marital-status': 'Never-married',\n",
       "  'occupation': 'Craft-repair',\n",
       "  'relationship': 'Not-in-family',\n",
       "  'hours-per-week': 'normal'},\n",
       " {'id': '26314',\n",
       "  'age': 'young',\n",
       "  'workclass': 'Private',\n",
       "  'education': 'Bachelors',\n",
       "  'marital-status': 'Divorced',\n",
       "  'occupation': 'Exec-managerial',\n",
       "  'relationship': 'Not-in-family',\n",
       "  'hours-per-week': 'normal'},\n",
       " {'id': '31405',\n",
       "  'age': 'young',\n",
       "  'workclass': 'Private',\n",
       "  'education': 'Bachelors',\n",
       "  'marital-status': 'Married-civ-spouse',\n",
       "  'occupation': 'Prof-specialty',\n",
       "  'relationship': 'Husband',\n",
       "  'hours-per-week': 'normal'},\n",
       " {'id': '14736',\n",
       "  'age': 'adult',\n",
       "  'workclass': 'Private',\n",
       "  'education': 'Some-college',\n",
       "  'marital-status': 'Divorced',\n",
       "  'occupation': 'Prof-specialty',\n",
       "  'relationship': 'Not-in-family',\n",
       "  'hours-per-week': 'normal'},\n",
       " {'id': '27217',\n",
       "  'age': 'young',\n",
       "  'workclass': 'Private',\n",
       "  'education': 'HS-grad',\n",
       "  'marital-status': 'Married-civ-spouse',\n",
       "  'occupation': 'Exec-managerial',\n",
       "  'relationship': 'Husband',\n",
       "  'hours-per-week': 'many'},\n",
       " {'id': '5951',\n",
       "  'age': 'young',\n",
       "  'workclass': 'Private',\n",
       "  'education': 'Bachelors',\n",
       "  'marital-status': 'Never-married',\n",
       "  'occupation': 'Prof-specialty',\n",
       "  'relationship': 'Not-in-family',\n",
       "  'hours-per-week': 'normal'},\n",
       " {'id': '30067',\n",
       "  'age': 'young',\n",
       "  'workclass': 'Local-gov',\n",
       "  'education': 'Bachelors',\n",
       "  'marital-status': 'Never-married',\n",
       "  'occupation': 'Craft-repair',\n",
       "  'relationship': 'Not-in-family',\n",
       "  'hours-per-week': 'normal'},\n",
       " {'id': '28777',\n",
       "  'age': 'young',\n",
       "  'workclass': 'Self-emp-not-inc',\n",
       "  'education': 'Some-college',\n",
       "  'marital-status': 'Never-married',\n",
       "  'occupation': 'Craft-repair',\n",
       "  'relationship': 'Not-in-family',\n",
       "  'hours-per-week': 'normal'},\n",
       " {'id': '15390',\n",
       "  'age': 'adult',\n",
       "  'workclass': 'Private',\n",
       "  'education': 'Some-college',\n",
       "  'marital-status': 'Married-civ-spouse',\n",
       "  'occupation': 'Craft-repair',\n",
       "  'relationship': 'Husband',\n",
       "  'hours-per-week': 'normal'},\n",
       " {'id': '18042',\n",
       "  'age': 'young',\n",
       "  'workclass': 'Private',\n",
       "  'education': 'Some-college',\n",
       "  'marital-status': 'Married-civ-spouse',\n",
       "  'occupation': 'Exec-managerial',\n",
       "  'relationship': 'Husband',\n",
       "  'hours-per-week': 'normal'}]"
      ]
     },
     "execution_count": 11,
     "metadata": {},
     "output_type": "execute_result"
    }
   ],
   "source": [
    "test_data = read_dict_from_csv(TESTSET)\n",
    "test_data[:10]"
   ]
  },
  {
   "cell_type": "code",
   "execution_count": 12,
   "metadata": {},
   "outputs": [
    {
     "name": "stdout",
     "output_type": "stream",
     "text": [
      "['<=50K', '<=50K', '>50K', '<=50K', '>50K', '>50K', '<=50K', '<=50K', '>50K', '>50K', '>50K', '>50K', '<=50K', '>50K', '>50K', '>50K', '<=50K', '>50K', '<=50K', '>50K', '>50K', '>50K', '>50K', '>50K', '>50K', '>50K', '>50K', '>50K', '>50K', '<=50K', '<=50K', '<=50K', '>50K', '>50K', '<=50K', '>50K', '<=50K', '>50K', '>50K', '>50K']\n"
     ]
    }
   ],
   "source": [
    "for d in test_data:\n",
    "    out_prob = { out: exp(sum(map(log, (class_probability[attr][d[attr]][out] for attr in attributes)))) * output_probability[out] for out in output_classes }\n",
    "    d[OUTPUT_ATTR] = max(out_prob, key=out_prob.get)\n",
    "test_data\n",
    "output_list = list(map(lambda x: x[OUTPUT_ATTR], test_data))\n",
    "print(output_list)"
   ]
  },
  {
   "cell_type": "code",
   "execution_count": 13,
   "metadata": {},
   "outputs": [],
   "source": [
    "write_list_to_csv(TEBAKAN, output_list)"
   ]
  }
 ],
 "metadata": {
  "kernelspec": {
   "display_name": "Python 3",
   "language": "python",
   "name": "python3"
  },
  "language_info": {
   "codemirror_mode": {
    "name": "ipython",
    "version": 3
   },
   "file_extension": ".py",
   "mimetype": "text/x-python",
   "name": "python",
   "nbconvert_exporter": "python",
   "pygments_lexer": "ipython3",
   "version": "3.7.2"
  }
 },
 "nbformat": 4,
 "nbformat_minor": 2
}
