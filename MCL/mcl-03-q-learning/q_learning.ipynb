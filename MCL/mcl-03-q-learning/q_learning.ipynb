{
  "nbformat": 4,
  "nbformat_minor": 0,
  "metadata": {
    "colab": {
      "name": "q-learning.ipynb",
      "version": "0.3.2",
      "provenance": [],
      "collapsed_sections": [],
      "toc_visible": true,
      "include_colab_link": true
    },
    "kernelspec": {
      "name": "python3",
      "display_name": "Python 3"
    }
  },
  "cells": [
    {
      "cell_type": "markdown",
      "metadata": {
        "id": "view-in-github",
        "colab_type": "text"
      },
      "source": [
        "<a href=\"https://colab.research.google.com/github/renaism/mcl-03-q-learning/blob/master/q_learning.ipynb\" target=\"_parent\"><img src=\"https://colab.research.google.com/assets/colab-badge.svg\" alt=\"Open In Colab\"/></a>"
      ]
    },
    {
      "metadata": {
        "id": "l76AYAChgnjY",
        "colab_type": "code",
        "colab": {}
      },
      "cell_type": "code",
      "source": [
        "from google.colab import files\n",
        "import numpy as np\n",
        "import seaborn as sns; sns.set()"
      ],
      "execution_count": 0,
      "outputs": []
    },
    {
      "metadata": {
        "id": "dJgrD52U68X4",
        "colab_type": "text"
      },
      "cell_type": "markdown",
      "source": [
        "## Grid Matrix"
      ]
    },
    {
      "metadata": {
        "id": "vaP477nKlaO7",
        "colab_type": "code",
        "outputId": "e9a2ee7f-f89f-4464-b344-6a8fe7a5e337",
        "colab": {
          "resources": {
            "http://localhost:8080/nbextensions/google.colab/files.js": {
              "data": "Ly8gQ29weXJpZ2h0IDIwMTcgR29vZ2xlIExMQwovLwovLyBMaWNlbnNlZCB1bmRlciB0aGUgQXBhY2hlIExpY2Vuc2UsIFZlcnNpb24gMi4wICh0aGUgIkxpY2Vuc2UiKTsKLy8geW91IG1heSBub3QgdXNlIHRoaXMgZmlsZSBleGNlcHQgaW4gY29tcGxpYW5jZSB3aXRoIHRoZSBMaWNlbnNlLgovLyBZb3UgbWF5IG9idGFpbiBhIGNvcHkgb2YgdGhlIExpY2Vuc2UgYXQKLy8KLy8gICAgICBodHRwOi8vd3d3LmFwYWNoZS5vcmcvbGljZW5zZXMvTElDRU5TRS0yLjAKLy8KLy8gVW5sZXNzIHJlcXVpcmVkIGJ5IGFwcGxpY2FibGUgbGF3IG9yIGFncmVlZCB0byBpbiB3cml0aW5nLCBzb2Z0d2FyZQovLyBkaXN0cmlidXRlZCB1bmRlciB0aGUgTGljZW5zZSBpcyBkaXN0cmlidXRlZCBvbiBhbiAiQVMgSVMiIEJBU0lTLAovLyBXSVRIT1VUIFdBUlJBTlRJRVMgT1IgQ09ORElUSU9OUyBPRiBBTlkgS0lORCwgZWl0aGVyIGV4cHJlc3Mgb3IgaW1wbGllZC4KLy8gU2VlIHRoZSBMaWNlbnNlIGZvciB0aGUgc3BlY2lmaWMgbGFuZ3VhZ2UgZ292ZXJuaW5nIHBlcm1pc3Npb25zIGFuZAovLyBsaW1pdGF0aW9ucyB1bmRlciB0aGUgTGljZW5zZS4KCi8qKgogKiBAZmlsZW92ZXJ2aWV3IEhlbHBlcnMgZm9yIGdvb2dsZS5jb2xhYiBQeXRob24gbW9kdWxlLgogKi8KKGZ1bmN0aW9uKHNjb3BlKSB7CmZ1bmN0aW9uIHNwYW4odGV4dCwgc3R5bGVBdHRyaWJ1dGVzID0ge30pIHsKICBjb25zdCBlbGVtZW50ID0gZG9jdW1lbnQuY3JlYXRlRWxlbWVudCgnc3BhbicpOwogIGVsZW1lbnQudGV4dENvbnRlbnQgPSB0ZXh0OwogIGZvciAoY29uc3Qga2V5IG9mIE9iamVjdC5rZXlzKHN0eWxlQXR0cmlidXRlcykpIHsKICAgIGVsZW1lbnQuc3R5bGVba2V5XSA9IHN0eWxlQXR0cmlidXRlc1trZXldOwogIH0KICByZXR1cm4gZWxlbWVudDsKfQoKLy8gTWF4IG51bWJlciBvZiBieXRlcyB3aGljaCB3aWxsIGJlIHVwbG9hZGVkIGF0IGEgdGltZS4KY29uc3QgTUFYX1BBWUxPQURfU0laRSA9IDEwMCAqIDEwMjQ7Ci8vIE1heCBhbW91bnQgb2YgdGltZSB0byBibG9jayB3YWl0aW5nIGZvciB0aGUgdXNlci4KY29uc3QgRklMRV9DSEFOR0VfVElNRU9VVF9NUyA9IDMwICogMTAwMDsKCmZ1bmN0aW9uIF91cGxvYWRGaWxlcyhpbnB1dElkLCBvdXRwdXRJZCkgewogIGNvbnN0IHN0ZXBzID0gdXBsb2FkRmlsZXNTdGVwKGlucHV0SWQsIG91dHB1dElkKTsKICBjb25zdCBvdXRwdXRFbGVtZW50ID0gZG9jdW1lbnQuZ2V0RWxlbWVudEJ5SWQob3V0cHV0SWQpOwogIC8vIENhY2hlIHN0ZXBzIG9uIHRoZSBvdXRwdXRFbGVtZW50IHRvIG1ha2UgaXQgYXZhaWxhYmxlIGZvciB0aGUgbmV4dCBjYWxsCiAgLy8gdG8gdXBsb2FkRmlsZXNDb250aW51ZSBmcm9tIFB5dGhvbi4KICBvdXRwdXRFbGVtZW50LnN0ZXBzID0gc3RlcHM7CgogIHJldHVybiBfdXBsb2FkRmlsZXNDb250aW51ZShvdXRwdXRJZCk7Cn0KCi8vIFRoaXMgaXMgcm91Z2hseSBhbiBhc3luYyBnZW5lcmF0b3IgKG5vdCBzdXBwb3J0ZWQgaW4gdGhlIGJyb3dzZXIgeWV0KSwKLy8gd2hlcmUgdGhlcmUgYXJlIG11bHRpcGxlIGFzeW5jaHJvbm91cyBzdGVwcyBhbmQgdGhlIFB5dGhvbiBzaWRlIGlzIGdvaW5nCi8vIHRvIHBvbGwgZm9yIGNvbXBsZXRpb24gb2YgZWFjaCBzdGVwLgovLyBUaGlzIHVzZXMgYSBQcm9taXNlIHRvIGJsb2NrIHRoZSBweXRob24gc2lkZSBvbiBjb21wbGV0aW9uIG9mIGVhY2ggc3RlcCwKLy8gdGhlbiBwYXNzZXMgdGhlIHJlc3VsdCBvZiB0aGUgcHJldmlvdXMgc3RlcCBhcyB0aGUgaW5wdXQgdG8gdGhlIG5leHQgc3RlcC4KZnVuY3Rpb24gX3VwbG9hZEZpbGVzQ29udGludWUob3V0cHV0SWQpIHsKICBjb25zdCBvdXRwdXRFbGVtZW50ID0gZG9jdW1lbnQuZ2V0RWxlbWVudEJ5SWQob3V0cHV0SWQpOwogIGNvbnN0IHN0ZXBzID0gb3V0cHV0RWxlbWVudC5zdGVwczsKCiAgY29uc3QgbmV4dCA9IHN0ZXBzLm5leHQob3V0cHV0RWxlbWVudC5sYXN0UHJvbWlzZVZhbHVlKTsKICByZXR1cm4gUHJvbWlzZS5yZXNvbHZlKG5leHQudmFsdWUucHJvbWlzZSkudGhlbigodmFsdWUpID0+IHsKICAgIC8vIENhY2hlIHRoZSBsYXN0IHByb21pc2UgdmFsdWUgdG8gbWFrZSBpdCBhdmFpbGFibGUgdG8gdGhlIG5leHQKICAgIC8vIHN0ZXAgb2YgdGhlIGdlbmVyYXRvci4KICAgIG91dHB1dEVsZW1lbnQubGFzdFByb21pc2VWYWx1ZSA9IHZhbHVlOwogICAgcmV0dXJuIG5leHQudmFsdWUucmVzcG9uc2U7CiAgfSk7Cn0KCi8qKgogKiBHZW5lcmF0b3IgZnVuY3Rpb24gd2hpY2ggaXMgY2FsbGVkIGJldHdlZW4gZWFjaCBhc3luYyBzdGVwIG9mIHRoZSB1cGxvYWQKICogcHJvY2Vzcy4KICogQHBhcmFtIHtzdHJpbmd9IGlucHV0SWQgRWxlbWVudCBJRCBvZiB0aGUgaW5wdXQgZmlsZSBwaWNrZXIgZWxlbWVudC4KICogQHBhcmFtIHtzdHJpbmd9IG91dHB1dElkIEVsZW1lbnQgSUQgb2YgdGhlIG91dHB1dCBkaXNwbGF5LgogKiBAcmV0dXJuIHshSXRlcmFibGU8IU9iamVjdD59IEl0ZXJhYmxlIG9mIG5leHQgc3RlcHMuCiAqLwpmdW5jdGlvbiogdXBsb2FkRmlsZXNTdGVwKGlucHV0SWQsIG91dHB1dElkKSB7CiAgY29uc3QgaW5wdXRFbGVtZW50ID0gZG9jdW1lbnQuZ2V0RWxlbWVudEJ5SWQoaW5wdXRJZCk7CiAgaW5wdXRFbGVtZW50LmRpc2FibGVkID0gZmFsc2U7CgogIGNvbnN0IG91dHB1dEVsZW1lbnQgPSBkb2N1bWVudC5nZXRFbGVtZW50QnlJZChvdXRwdXRJZCk7CiAgb3V0cHV0RWxlbWVudC5pbm5lckhUTUwgPSAnJzsKCiAgY29uc3QgcGlja2VkUHJvbWlzZSA9IG5ldyBQcm9taXNlKChyZXNvbHZlKSA9PiB7CiAgICBpbnB1dEVsZW1lbnQuYWRkRXZlbnRMaXN0ZW5lcignY2hhbmdlJywgKGUpID0+IHsKICAgICAgcmVzb2x2ZShlLnRhcmdldC5maWxlcyk7CiAgICB9KTsKICB9KTsKCiAgY29uc3QgY2FuY2VsID0gZG9jdW1lbnQuY3JlYXRlRWxlbWVudCgnYnV0dG9uJyk7CiAgaW5wdXRFbGVtZW50LnBhcmVudEVsZW1lbnQuYXBwZW5kQ2hpbGQoY2FuY2VsKTsKICBjYW5jZWwudGV4dENvbnRlbnQgPSAnQ2FuY2VsIHVwbG9hZCc7CiAgY29uc3QgY2FuY2VsUHJvbWlzZSA9IG5ldyBQcm9taXNlKChyZXNvbHZlKSA9PiB7CiAgICBjYW5jZWwub25jbGljayA9ICgpID0+IHsKICAgICAgcmVzb2x2ZShudWxsKTsKICAgIH07CiAgfSk7CgogIC8vIENhbmNlbCB1cGxvYWQgaWYgdXNlciBoYXNuJ3QgcGlja2VkIGFueXRoaW5nIGluIHRpbWVvdXQuCiAgY29uc3QgdGltZW91dFByb21pc2UgPSBuZXcgUHJvbWlzZSgocmVzb2x2ZSkgPT4gewogICAgc2V0VGltZW91dCgoKSA9PiB7CiAgICAgIHJlc29sdmUobnVsbCk7CiAgICB9LCBGSUxFX0NIQU5HRV9USU1FT1VUX01TKTsKICB9KTsKCiAgLy8gV2FpdCBmb3IgdGhlIHVzZXIgdG8gcGljayB0aGUgZmlsZXMuCiAgY29uc3QgZmlsZXMgPSB5aWVsZCB7CiAgICBwcm9taXNlOiBQcm9taXNlLnJhY2UoW3BpY2tlZFByb21pc2UsIHRpbWVvdXRQcm9taXNlLCBjYW5jZWxQcm9taXNlXSksCiAgICByZXNwb25zZTogewogICAgICBhY3Rpb246ICdzdGFydGluZycsCiAgICB9CiAgfTsKCiAgaWYgKCFmaWxlcykgewogICAgcmV0dXJuIHsKICAgICAgcmVzcG9uc2U6IHsKICAgICAgICBhY3Rpb246ICdjb21wbGV0ZScsCiAgICAgIH0KICAgIH07CiAgfQoKICBjYW5jZWwucmVtb3ZlKCk7CgogIC8vIERpc2FibGUgdGhlIGlucHV0IGVsZW1lbnQgc2luY2UgZnVydGhlciBwaWNrcyBhcmUgbm90IGFsbG93ZWQuCiAgaW5wdXRFbGVtZW50LmRpc2FibGVkID0gdHJ1ZTsKCiAgZm9yIChjb25zdCBmaWxlIG9mIGZpbGVzKSB7CiAgICBjb25zdCBsaSA9IGRvY3VtZW50LmNyZWF0ZUVsZW1lbnQoJ2xpJyk7CiAgICBsaS5hcHBlbmQoc3BhbihmaWxlLm5hbWUsIHtmb250V2VpZ2h0OiAnYm9sZCd9KSk7CiAgICBsaS5hcHBlbmQoc3BhbigKICAgICAgICBgKCR7ZmlsZS50eXBlIHx8ICduL2EnfSkgLSAke2ZpbGUuc2l6ZX0gYnl0ZXMsIGAgKwogICAgICAgIGBsYXN0IG1vZGlmaWVkOiAkewogICAgICAgICAgICBmaWxlLmxhc3RNb2RpZmllZERhdGUgPyBmaWxlLmxhc3RNb2RpZmllZERhdGUudG9Mb2NhbGVEYXRlU3RyaW5nKCkgOgogICAgICAgICAgICAgICAgICAgICAgICAgICAgICAgICAgICAnbi9hJ30gLSBgKSk7CiAgICBjb25zdCBwZXJjZW50ID0gc3BhbignMCUgZG9uZScpOwogICAgbGkuYXBwZW5kQ2hpbGQocGVyY2VudCk7CgogICAgb3V0cHV0RWxlbWVudC5hcHBlbmRDaGlsZChsaSk7CgogICAgY29uc3QgZmlsZURhdGFQcm9taXNlID0gbmV3IFByb21pc2UoKHJlc29sdmUpID0+IHsKICAgICAgY29uc3QgcmVhZGVyID0gbmV3IEZpbGVSZWFkZXIoKTsKICAgICAgcmVhZGVyLm9ubG9hZCA9IChlKSA9PiB7CiAgICAgICAgcmVzb2x2ZShlLnRhcmdldC5yZXN1bHQpOwogICAgICB9OwogICAgICByZWFkZXIucmVhZEFzQXJyYXlCdWZmZXIoZmlsZSk7CiAgICB9KTsKICAgIC8vIFdhaXQgZm9yIHRoZSBkYXRhIHRvIGJlIHJlYWR5LgogICAgbGV0IGZpbGVEYXRhID0geWllbGQgewogICAgICBwcm9taXNlOiBmaWxlRGF0YVByb21pc2UsCiAgICAgIHJlc3BvbnNlOiB7CiAgICAgICAgYWN0aW9uOiAnY29udGludWUnLAogICAgICB9CiAgICB9OwoKICAgIC8vIFVzZSBhIGNodW5rZWQgc2VuZGluZyB0byBhdm9pZCBtZXNzYWdlIHNpemUgbGltaXRzLiBTZWUgYi82MjExNTY2MC4KICAgIGxldCBwb3NpdGlvbiA9IDA7CiAgICB3aGlsZSAocG9zaXRpb24gPCBmaWxlRGF0YS5ieXRlTGVuZ3RoKSB7CiAgICAgIGNvbnN0IGxlbmd0aCA9IE1hdGgubWluKGZpbGVEYXRhLmJ5dGVMZW5ndGggLSBwb3NpdGlvbiwgTUFYX1BBWUxPQURfU0laRSk7CiAgICAgIGNvbnN0IGNodW5rID0gbmV3IFVpbnQ4QXJyYXkoZmlsZURhdGEsIHBvc2l0aW9uLCBsZW5ndGgpOwogICAgICBwb3NpdGlvbiArPSBsZW5ndGg7CgogICAgICBjb25zdCBiYXNlNjQgPSBidG9hKFN0cmluZy5mcm9tQ2hhckNvZGUuYXBwbHkobnVsbCwgY2h1bmspKTsKICAgICAgeWllbGQgewogICAgICAgIHJlc3BvbnNlOiB7CiAgICAgICAgICBhY3Rpb246ICdhcHBlbmQnLAogICAgICAgICAgZmlsZTogZmlsZS5uYW1lLAogICAgICAgICAgZGF0YTogYmFzZTY0LAogICAgICAgIH0sCiAgICAgIH07CiAgICAgIHBlcmNlbnQudGV4dENvbnRlbnQgPQogICAgICAgICAgYCR7TWF0aC5yb3VuZCgocG9zaXRpb24gLyBmaWxlRGF0YS5ieXRlTGVuZ3RoKSAqIDEwMCl9JSBkb25lYDsKICAgIH0KICB9CgogIC8vIEFsbCBkb25lLgogIHlpZWxkIHsKICAgIHJlc3BvbnNlOiB7CiAgICAgIGFjdGlvbjogJ2NvbXBsZXRlJywKICAgIH0KICB9Owp9CgpzY29wZS5nb29nbGUgPSBzY29wZS5nb29nbGUgfHwge307CnNjb3BlLmdvb2dsZS5jb2xhYiA9IHNjb3BlLmdvb2dsZS5jb2xhYiB8fCB7fTsKc2NvcGUuZ29vZ2xlLmNvbGFiLl9maWxlcyA9IHsKICBfdXBsb2FkRmlsZXMsCiAgX3VwbG9hZEZpbGVzQ29udGludWUsCn07Cn0pKHNlbGYpOwo=",
              "ok": true,
              "headers": [
                [
                  "content-type",
                  "application/javascript"
                ]
              ],
              "status": 200,
              "status_text": "OK"
            }
          },
          "base_uri": "https://localhost:8080/",
          "height": 352
        }
      },
      "cell_type": "code",
      "source": [
        "uploaded = files.upload()\n",
        "for fn in uploaded.keys():\n",
        "    G = np.loadtxt(fn, dtype=int)\n",
        "print(G)"
      ],
      "execution_count": 2,
      "outputs": [
        {
          "output_type": "display_data",
          "data": {
            "text/html": [
              "\n",
              "     <input type=\"file\" id=\"files-2d7df47a-a157-4550-9bf7-e4b9dbd465aa\" name=\"files[]\" multiple disabled />\n",
              "     <output id=\"result-2d7df47a-a157-4550-9bf7-e4b9dbd465aa\">\n",
              "      Upload widget is only available when the cell has been executed in the\n",
              "      current browser session. Please rerun this cell to enable.\n",
              "      </output>\n",
              "      <script src=\"/nbextensions/google.colab/files.js\"></script> "
            ],
            "text/plain": [
              "<IPython.core.display.HTML object>"
            ]
          },
          "metadata": {
            "tags": []
          }
        },
        {
          "output_type": "stream",
          "text": [
            "Saving DataTugas3ML2019.txt to DataTugas3ML2019 (3).txt\n",
            "[[ -1  -2  -3  -2  -3  -3  -4  -1  -4  -2  -1  -2  -3  -3 500]\n",
            " [ -1  -3  -1  -2  -4  -1  -4  -1  -4  -2  -4  -2  -2  -2  -1]\n",
            " [ -4  -2  -1  -4  -2  -1  -2  -4  -2  -3  -2  -1  -2  -4  -4]\n",
            " [ -4  -2  -4  -1  -3  -2  -3  -2  -4  -2  -4  -1  -2  -4  -2]\n",
            " [ -4  -2  -2  -3  -2  -3  -1  -1  -4  -2  -1  -3  -4  -2  -4]\n",
            " [ -4  -3  -3  -4  -2  -3  -4  -2  -2  -1  -1  -2  -1  -2  -1]\n",
            " [ -2  -3  -2  -1  -1  -3  -2  -1  -4  -3  -1  -1  -2  -3  -3]\n",
            " [ -3  -1  -1  -4  -4  -3  -1  -2  -3  -1  -1  -4  -4  -3  -3]\n",
            " [ -3  -1  -4  -2  -3  -3  -1  -4  -4  -4  -2  -2  -2  -2  -1]\n",
            " [ -3  -4  -4  -2  -3  -4  -3  -3  -2  -2  -3  -4  -3  -4  -1]\n",
            " [ -3  -4  -1  -1  -1  -4  -4  -4  -4  -1  -2  -4  -2  -2  -1]\n",
            " [ -1  -3  -3  -3  -3  -3  -3  -3  -4  -1  -2  -4  -1  -2  -4]\n",
            " [ -2  -2  -1  -2  -2  -2  -4  -3  -1  -4  -1  -4  -2  -2  -2]\n",
            " [ -2  -1  -3  -1  -4  -4  -1  -3  -3  -1  -1  -2  -3  -4  -3]\n",
            " [ -2  -2  -1  -4  -4  -4  -2  -2  -3  -1  -2  -2  -1  -1  -3]]\n"
          ],
          "name": "stdout"
        }
      ]
    },
    {
      "metadata": {
        "id": "PoHMlt4NkTtk",
        "colab_type": "code",
        "colab": {}
      },
      "cell_type": "code",
      "source": [
        "start = (14, 0)\n",
        "goal = (0, 14)\n",
        "A_N = 0\n",
        "A_E = 1\n",
        "A_S = 2\n",
        "A_W = 3\n",
        "actions = [A_N, A_E, A_S, A_W]"
      ],
      "execution_count": 0,
      "outputs": []
    },
    {
      "metadata": {
        "id": "owfnz82g105O",
        "colab_type": "text"
      },
      "cell_type": "markdown",
      "source": [
        "## Reward Matrix"
      ]
    },
    {
      "metadata": {
        "id": "LrdSn1Gsl-tb",
        "colab_type": "code",
        "colab": {}
      },
      "cell_type": "code",
      "source": [
        "R = np.full(G.shape+(len(actions),), -100, dtype=int)\n",
        "\n",
        "for x in range(R.shape[0]):\n",
        "    for y in range(R.shape[1]):\n",
        "        # Action N / Up [0]\n",
        "        if x > 0:\n",
        "            R[x, y, 0] = G[x-1, y]\n",
        "        # Action E / Right [1]\n",
        "        if y < R.shape[1] - 1:\n",
        "            R[x, y, 1] = G[x, y+1]\n",
        "        # Action S / Down [2]\n",
        "        if x < R.shape[0] - 1:\n",
        "            R[x, y, 2] = G[x+1, y]\n",
        "        # Action W / Left [3]\n",
        "        if y > 0:\n",
        "            R[x, y, 3] = G[x, y-1]"
      ],
      "execution_count": 0,
      "outputs": []
    },
    {
      "metadata": {
        "id": "PO2EO_GCHZ6c",
        "colab_type": "text"
      },
      "cell_type": "markdown",
      "source": [
        "## Parameters"
      ]
    },
    {
      "metadata": {
        "id": "lfg0LKp3mA_c",
        "colab_type": "code",
        "cellView": "form",
        "colab": {}
      },
      "cell_type": "code",
      "source": [
        "#@markdown ### Learning Rate (α)\n",
        "α = 0.1 #@param {type:'number'}\n",
        "#@markdown ### Discount (γ)\n",
        "γ = 0.8 #@param {type:'number'}"
      ],
      "execution_count": 0,
      "outputs": []
    },
    {
      "metadata": {
        "id": "mLcOVmXL7RGs",
        "colab_type": "text"
      },
      "cell_type": "markdown",
      "source": [
        "## Next State\n",
        "Function to determine next state based on current state and action"
      ]
    },
    {
      "metadata": {
        "id": "6SVl47OqYDGX",
        "colab_type": "code",
        "colab": {}
      },
      "cell_type": "code",
      "source": [
        "def next_state(G, s, a):\n",
        "    if a == A_N:\n",
        "        return (s[0]-1, s[1])\n",
        "    elif a == A_E:\n",
        "        return (s[0], s[1]+1)\n",
        "    elif a == A_S:\n",
        "        return (s[0]+1, s[1])\n",
        "    elif a == A_W:\n",
        "        return (s[0], s[1]-1)\n",
        "    return s"
      ],
      "execution_count": 0,
      "outputs": []
    },
    {
      "metadata": {
        "id": "07w_xCYQG0qd",
        "colab_type": "text"
      },
      "cell_type": "markdown",
      "source": [
        "## Q-value Function"
      ]
    },
    {
      "metadata": {
        "id": "ien16Jr66a2O",
        "colab_type": "code",
        "colab": {}
      },
      "cell_type": "code",
      "source": [
        "def q_value(G, R, Q, s, a, α, γ):\n",
        "    # Define next state based on action\n",
        "    s_1 = next_state(G, s, a)\n",
        "        \n",
        "    # Find the maximum q-value for the next state\n",
        "    q_1_max = np.amax(Q[s_1])\n",
        "    \n",
        "    return (1-α) * Q[s+(a,)] +  α * (R[s+(a,)] + γ*q_1_max)"
      ],
      "execution_count": 0,
      "outputs": []
    },
    {
      "metadata": {
        "id": "xmNM4ZtlHcXy",
        "colab_type": "text"
      },
      "cell_type": "markdown",
      "source": [
        "## Learning"
      ]
    },
    {
      "metadata": {
        "id": "SBSSVvmuIlzR",
        "colab_type": "code",
        "cellView": "form",
        "colab": {}
      },
      "cell_type": "code",
      "source": [
        "episode_length = 30 #@param {type:'integer'}\n",
        "n_episode = 10000 #@param {type:'integer'}"
      ],
      "execution_count": 0,
      "outputs": []
    },
    {
      "metadata": {
        "id": "oMG00oL77sdE",
        "colab_type": "text"
      },
      "cell_type": "markdown",
      "source": [
        "## Valid Action\n",
        "Determine valid actions based on state location in the grid. For example,  (0,14) state is on the bottom-left corner so the valid actions from that state are only up (N) and right (E)"
      ]
    },
    {
      "metadata": {
        "id": "OXY_FJ4wVJtx",
        "colab_type": "code",
        "colab": {}
      },
      "cell_type": "code",
      "source": [
        "def valid_action(G, s):\n",
        "    if s[0] == 0 and s[1] == 0:\n",
        "        return [A_E, A_S]\n",
        "    elif s[0] == 0 and s[1] == G.shape[1]-1:\n",
        "        return [A_S, A_W]\n",
        "    elif s[0] == 0:\n",
        "        return [A_E, A_S, A_W]\n",
        "    elif s[0] == G.shape[0]-1 and s[1] == 0:\n",
        "        return [A_N, A_E]\n",
        "    elif s[0] == G.shape[0]-1 and s[1] == G.shape[1]-1:\n",
        "        return [A_N, A_W]\n",
        "    elif s[0] == G.shape[0]-1:\n",
        "        return [A_N, A_E, A_W]\n",
        "    elif s[1] == 0:\n",
        "        return [A_N, A_E, A_S]\n",
        "    elif s[1] == G.shape[1]-1:\n",
        "        return [A_N, A_S, A_W]\n",
        "    else:\n",
        "        return [A_N, A_E, A_S, A_W]"
      ],
      "execution_count": 0,
      "outputs": []
    },
    {
      "metadata": {
        "id": "1GeFydrA8WMI",
        "colab_type": "text"
      },
      "cell_type": "markdown",
      "source": [
        "## Fill the Q Matrix with randomized episodes"
      ]
    },
    {
      "metadata": {
        "id": "hUcPpxSV3LnA",
        "colab_type": "code",
        "outputId": "bd78f647-63c2-48f3-d7f4-7fd2d0fc154f",
        "colab": {
          "base_uri": "https://localhost:8080/",
          "height": 4407
        }
      },
      "cell_type": "code",
      "source": [
        "Q = np.full(R.shape, -100.0)\n",
        "for n in range(n_episode):\n",
        "    E = {'s': [], 'a': []}\n",
        "    # Start episode from a random state\n",
        "    s = (np.random.randint(G.shape[0]), np.random.randint(G.shape[1]))\n",
        "    E['s'].append(s)\n",
        "    # Generate next state with possible actions\n",
        "    for _ in range(episode_length-1):\n",
        "        a = np.random.choice(valid_action(G, s))\n",
        "        s = next_state(G, s, a)\n",
        "        E['s'].append(s)\n",
        "        E['a'].append(a)\n",
        "    for i in range(len(E['s'])-1):\n",
        "        s = E['s'][i]\n",
        "        a = E['a'][i]\n",
        "        Q[s+(a,)] = q_value(G, R, Q, s, a, α, γ)\n",
        "print(Q)"
      ],
      "execution_count": 10,
      "outputs": [
        {
          "output_type": "stream",
          "text": [
            "[[[-1.00000000e+02  6.37137641e+01  3.88649256e+01 -1.00000000e+02]\n",
            "  [-1.00000000e+02  8.22026531e+01  4.94857719e+01  4.99164335e+01]\n",
            "  [-1.00000000e+02  1.06638991e+02  6.57150256e+01  6.36827161e+01]\n",
            "  [-1.00000000e+02  1.35940132e+02  8.35242518e+01  8.22181648e+01]\n",
            "  [-1.00000000e+02  1.73776998e+02  1.07065083e+02  1.06643155e+02]\n",
            "  [-1.00000000e+02  2.21090476e+02  1.38942930e+02  1.35937688e+02]\n",
            "  [-1.00000000e+02  2.81593139e+02  1.74998508e+02  1.73758999e+02]\n",
            "  [-1.00000000e+02  3.53531588e+02  2.24048500e+02  2.21014292e+02]\n",
            "  [-1.00000000e+02  4.47194548e+02  2.80422360e+02  2.81544104e+02]\n",
            "  [-1.00000000e+02  5.61577984e+02  3.55707249e+02  3.53594169e+02]\n",
            "  [-1.00000000e+02  7.03274754e+02  4.45652568e+02  4.47202348e+02]\n",
            "  [-1.00000000e+02  8.81647458e+02  5.62139473e+02  5.61575636e+02]\n",
            "  [-1.00000000e+02  1.10587408e+03  7.05283515e+02  7.03257783e+02]\n",
            "  [-1.00000000e+02  1.38615670e+03  8.84199766e+02  8.81639516e+02]\n",
            "  [-1.00000000e+02 -1.00000000e+02  1.10782213e+03  1.10586305e+03]]\n",
            "\n",
            " [[ 4.98948601e+01  4.95163461e+01  2.71730714e+01 -1.00000000e+02]\n",
            "  [ 6.36709725e+01  6.57363686e+01  3.89988933e+01  3.88796055e+01]\n",
            "  [ 8.22278767e+01  8.35381598e+01  5.14663208e+01  4.93924197e+01]\n",
            "  [ 1.06608512e+02  1.07037833e+02  6.45367774e+01  6.57365017e+01]\n",
            "  [ 1.35950455e+02  1.38938645e+02  8.58963697e+01  8.35013671e+01]\n",
            "  [ 1.73753836e+02  1.75084931e+02  1.10046990e+02  1.07032524e+02]\n",
            "  [ 2.21085626e+02  2.24059539e+02  1.37897068e+02  1.38950865e+02]\n",
            "  [ 2.81542702e+02  2.80463738e+02  1.75046147e+02  1.75108304e+02]\n",
            "  [ 3.53583969e+02  3.55707264e+02  2.23795895e+02  2.24040923e+02]\n",
            "  [ 4.47202175e+02  4.45655207e+02  2.82352681e+02  2.80519811e+02]\n",
            "  [ 5.61536812e+02  5.62171461e+02  3.56839336e+02  3.55698657e+02]\n",
            "  [ 7.03271590e+02  7.05282545e+02  4.48684736e+02  4.45663697e+02]\n",
            "  [ 8.81647704e+02  8.84178532e+02  5.62164617e+02  5.62152330e+02]\n",
            "  [ 1.10585858e+03  1.10780965e+03  7.03313111e+02  7.05288412e+02]\n",
            "  [ 1.38616605e+03 -1.00000000e+02  8.82203884e+02  8.84142531e+02]]\n",
            "\n",
            " [[ 3.88433505e+01  3.90716869e+01  1.92149352e+01 -1.00000000e+02]\n",
            "  [ 4.94931249e+01  5.14518288e+01  2.91152321e+01  2.71526315e+01]\n",
            "  [ 6.56888569e+01  6.46219530e+01  3.70937418e+01  3.90791896e+01]\n",
            "  [ 8.34402643e+01  8.59039824e+01  5.13743990e+01  5.13982347e+01]\n",
            "  [ 1.07000965e+02  1.10089461e+02  6.55879978e+01  6.46029388e+01]\n",
            "  [ 1.38976771e+02  1.37909750e+02  8.59485669e+01  8.59072340e+01]\n",
            "  [ 1.75048277e+02  1.74961844e+02  1.07263626e+02  1.09987524e+02]\n",
            "  [ 2.24020748e+02  2.23796682e+02  1.37912045e+02  1.37918938e+02]\n",
            "  [ 2.80441175e+02  2.82365833e+02  1.74952309e+02  1.75097919e+02]\n",
            "  [ 3.55684681e+02  3.56814065e+02  2.23814230e+02  2.23827790e+02]\n",
            "  [ 4.45641893e+02  4.48635959e+02  2.82189532e+02  2.82362060e+02]\n",
            "  [ 5.62156935e+02  5.62167023e+02  3.57874961e+02  3.56853160e+02]\n",
            "  [ 7.05286739e+02  7.03320364e+02  4.47664971e+02  4.48691813e+02]\n",
            "  [ 8.84203711e+02  8.82213909e+02  5.58865048e+02  5.62194402e+02]\n",
            "  [ 1.10785792e+03 -1.00000000e+02  7.03691885e+02  7.03295919e+02]]\n",
            "\n",
            " [[ 2.71764488e+01  2.91650124e+01  1.28742625e+01 -1.00000000e+02]\n",
            "  [ 3.90277001e+01  3.70881173e+01  2.12223788e+01  1.92596383e+01]\n",
            "  [ 5.14724217e+01  5.13958867e+01  2.82685352e+01  2.91441907e+01]\n",
            "  [ 6.46179121e+01  6.56251549e+01  3.79366206e+01  3.70856136e+01]\n",
            "  [ 8.59335439e+01  8.58648612e+01  5.07056436e+01  5.14032228e+01]\n",
            "  [ 1.10047493e+02  1.07255185e+02  6.61293190e+01  6.56268441e+01]\n",
            "  [ 1.37906616e+02  1.37971625e+02  8.64604400e+01  8.59150030e+01]\n",
            "  [ 1.75068921e+02  1.74958593e+02  1.09479002e+02  1.07274100e+02]\n",
            "  [ 2.23797628e+02  2.23803390e+02  1.38380513e+02  1.37892849e+02]\n",
            "  [ 2.82383183e+02  2.82139395e+02  1.78102909e+02  1.74898961e+02]\n",
            "  [ 3.56820407e+02  3.57855506e+02  2.25256098e+02  2.23818699e+02]\n",
            "  [ 4.48672027e+02  4.47625360e+02  2.83090785e+02  2.82154096e+02]\n",
            "  [ 5.62159749e+02  5.58875903e+02  3.54033183e+02  3.57783441e+02]\n",
            "  [ 7.03305082e+02  7.03682741e+02  4.45040621e+02  4.47641347e+02]\n",
            "  [ 8.82204966e+02 -1.00000000e+02  5.58860822e+02  5.58909268e+02]]\n",
            "\n",
            " [[ 1.92707765e+01  2.12292324e+01  6.97039421e+00 -1.00000000e+02]\n",
            "  [ 2.91092146e+01  2.82434082e+01  1.39100325e+01  1.28821578e+01]\n",
            "  [ 3.70996923e+01  3.79741221e+01  1.94209704e+01  2.12289852e+01]\n",
            "  [ 5.13589964e+01  5.07358701e+01  2.66592507e+01  2.82489735e+01]\n",
            "  [ 6.56074328e+01  6.60837261e+01  3.84503178e+01  3.79370974e+01]\n",
            "  [ 8.59029887e+01  8.66250498e+01  4.96891357e+01  5.06530275e+01]\n",
            "  [ 1.07252222e+02  1.09619002e+02  6.52568261e+01  6.61508680e+01]\n",
            "  [ 1.37863737e+02  1.38364277e+02  8.69605599e+01  8.65523482e+01]\n",
            "  [ 1.74932671e+02  1.78141756e+02  1.11440825e+02  1.09519383e+02]\n",
            "  [ 2.23764678e+02  2.25318950e+02  1.42060722e+02  1.38337992e+02]\n",
            "  [ 2.82166780e+02  2.83046991e+02  1.79002815e+02  1.78116409e+02]\n",
            "  [ 3.57823696e+02  3.53983233e+02  2.24363385e+02  2.25274691e+02]\n",
            "  [ 4.47626100e+02  4.45022837e+02  2.82678884e+02  2.83137277e+02]\n",
            "  [ 5.58888645e+02  5.58879329e+02  3.54695406e+02  3.54011412e+02]\n",
            "  [ 7.03705216e+02 -1.00000000e+02  4.46043126e+02  4.45015858e+02]]\n",
            "\n",
            " [[ 1.28650220e+01  1.38877880e+01  5.69174547e+00 -1.00000000e+02]\n",
            "  [ 2.12120014e+01  1.94495993e+01  9.80409837e+00  7.03354625e+00]\n",
            "  [ 2.82231367e+01  2.66450996e+01  1.62439497e+01  1.38970924e+01]\n",
            "  [ 3.79957790e+01  3.84549355e+01  2.28700553e+01  1.94883732e+01]\n",
            "  [ 5.06963434e+01  4.97494822e+01  2.99845063e+01  2.66769758e+01]\n",
            "  [ 6.60607096e+01  6.53077932e+01  3.88693356e+01  3.84655871e+01]\n",
            "  [ 8.64694124e+01  8.69208234e+01  5.25910710e+01  4.96130018e+01]\n",
            "  [ 1.09467458e+02  1.11481044e+02  6.84268033e+01  6.53811135e+01]\n",
            "  [ 1.38339318e+02  1.42045170e+02  8.50189265e+01  8.70298235e+01]\n",
            "  [ 1.78067947e+02  1.79039632e+02  1.10541848e+02  1.11532330e+02]\n",
            "  [ 2.25234962e+02  2.24339542e+02  1.42115081e+02  1.42063894e+02]\n",
            "  [ 2.83130704e+02  2.82691673e+02  1.78349357e+02  1.79056807e+02]\n",
            "  [ 3.54016028e+02  3.54687507e+02  2.24060293e+02  2.24380220e+02]\n",
            "  [ 4.45058150e+02  4.46001575e+02  2.80685861e+02  2.82679378e+02]\n",
            "  [ 5.58888128e+02 -1.00000000e+02  3.53769693e+02  3.54658040e+02]]\n",
            "\n",
            " [[ 7.00378086e+00  9.82110708e+00  3.43730039e+00 -1.00000000e+02]\n",
            "  [ 1.39114366e+01  1.62215023e+01  8.18044772e+00  5.63010167e+00]\n",
            "  [ 1.94515265e+01  2.29175833e+01  1.18352882e+01  9.81024080e+00]\n",
            "  [ 2.66674521e+01  3.00418697e+01  1.42156806e+01  1.61645227e+01]\n",
            "  [ 3.84342927e+01  3.89047266e+01  1.98873429e+01  2.29667247e+01]\n",
            "  [ 4.96710655e+01  5.25326962e+01  2.96409943e+01  3.00217281e+01]\n",
            "  [ 6.53242867e+01  6.84160804e+01  4.09104734e+01  3.88809794e+01]\n",
            "  [ 8.69778954e+01  8.49687214e+01  5.24521306e+01  5.25598352e+01]\n",
            "  [ 1.11485880e+02  1.10629396e+02  6.79323800e+01  6.83850257e+01]\n",
            "  [ 1.42097118e+02  1.42175411e+02  8.88910128e+01  8.50364788e+01]\n",
            "  [ 1.79074119e+02  1.78342901e+02  1.12642568e+02  1.10639734e+02]\n",
            "  [ 2.24345663e+02  2.24052272e+02  1.38513651e+02  1.42144078e+02]\n",
            "  [ 2.82672784e+02  2.80650335e+02  1.75165268e+02  1.78403174e+02]\n",
            "  [ 3.54744764e+02  3.53759698e+02  2.21362794e+02  2.24064468e+02]\n",
            "  [ 4.46030330e+02 -1.00000000e+02  2.79939262e+02  2.80700531e+02]]\n",
            "\n",
            " [[ 5.63503962e+00  8.30424119e+00  1.18759952e+00 -1.00000000e+02]\n",
            "  [ 9.78658116e+00  1.18218567e+01  5.40759088e+00  3.48538506e+00]\n",
            "  [ 1.62045421e+01  1.42732219e+01  5.24284634e+00  8.22643016e+00]\n",
            "  [ 2.29318587e+01  1.98192484e+01  9.65024865e+00  1.18742521e+01]\n",
            "  [ 2.99821539e+01  2.95818949e+01  1.46940048e+01  1.41604745e+01]\n",
            "  [ 3.89210095e+01  4.08993052e+01  2.22123269e+01  1.98485976e+01]\n",
            "  [ 5.25660667e+01  5.25367170e+01  3.16382262e+01  2.95356615e+01]\n",
            "  [ 6.82837277e+01  6.79812138e+01  3.79011194e+01  4.09109695e+01]\n",
            "  [ 8.50223931e+01  8.88941323e+01  5.02753519e+01  5.25540178e+01]\n",
            "  [ 1.10660290e+02  1.12468098e+02  6.70003899e+01  6.80027614e+01]\n",
            "  [ 1.42150909e+02  1.38505027e+02  8.79301899e+01  8.89115460e+01]\n",
            "  [ 1.78274067e+02  1.75143169e+02  1.08960528e+02  1.12659123e+02]\n",
            "  [ 2.24077970e+02  2.21435149e+02  1.38823877e+02  1.38502829e+02]\n",
            "  [ 2.80652944e+02  2.79925106e+02  1.76169488e+02  1.75190648e+02]\n",
            "  [ 3.53768178e+02 -1.00000000e+02  2.22877602e+02  2.21434771e+02]]\n",
            "\n",
            " [[ 3.39831977e+00  5.42935023e+00 -2.24481052e+00 -1.00000000e+02]\n",
            "  [ 8.33310996e+00  5.20001924e+00  1.50073975e-01  1.12139663e+00]\n",
            "  [ 1.17490754e+01  9.61635711e+00  2.91849623e-01  5.45457915e+00]\n",
            "  [ 1.42597946e+01  1.46721349e+01  5.55581040e+00  5.27770799e+00]\n",
            "  [ 1.98030364e+01  2.22307751e+01  8.64989670e+00  9.60357169e+00]\n",
            "  [ 2.96422904e+01  3.16538238e+01  1.36934880e+01  1.46288546e+01]\n",
            "  [ 4.09261677e+01  3.79051656e+01  2.22624977e+01  2.22585487e+01]\n",
            "  [ 5.24816671e+01  5.02858734e+01  2.81424474e+01  3.16383496e+01]\n",
            "  [ 6.80222954e+01  6.69366132e+01  3.91900807e+01  3.79044152e+01]\n",
            "  [ 8.88083737e+01  8.79079978e+01  5.15145254e+01  5.03088932e+01]\n",
            "  [ 1.12543502e+02  1.08965514e+02  6.70827709e+01  6.69549993e+01]\n",
            "  [ 1.38534721e+02  1.38845373e+02  8.29152868e+01  8.79050065e+01]\n",
            "  [ 1.75197122e+02  1.76217618e+02  1.07964945e+02  1.08925608e+02]\n",
            "  [ 2.21451579e+02  2.22857547e+02  1.37610793e+02  1.38848609e+02]\n",
            "  [ 2.79929443e+02 -1.00000000e+02  1.77173384e+02  1.76215499e+02]]\n",
            "\n",
            " [[ 1.13104205e+00  1.12705669e-01 -4.84749404e+00 -1.00000000e+02]\n",
            "  [ 5.33767619e+00  3.19677415e-01 -2.74849641e+00 -2.19751798e+00]\n",
            "  [ 5.26939656e+00  5.61459168e+00  1.67640882e+00  9.36719913e-02]\n",
            "  [ 9.63321847e+00  8.66106951e+00  3.54321696e+00  4.08763946e-01]\n",
            "  [ 1.46858992e+01  1.37175925e+01  5.84797449e+00  5.60751549e+00]\n",
            "  [ 2.22144261e+01  2.22512603e+01  6.91157642e+00  8.67473028e+00]\n",
            "  [ 3.16535841e+01  2.82016576e+01  1.37093846e+01  1.37428759e+01]\n",
            "  [ 3.78849887e+01  3.91453874e+01  1.83722515e+01  2.22405318e+01]\n",
            "  [ 5.03078208e+01  5.15465955e+01  2.80473802e+01  2.81249212e+01]\n",
            "  [ 6.69033128e+01  6.70465988e+01  4.02155356e+01  3.90969541e+01]\n",
            "  [ 8.77916507e+01  8.29182942e+01  5.15131515e+01  5.15179519e+01]\n",
            "  [ 1.08888809e+02  1.07953938e+02  6.47049721e+01  6.70851093e+01]\n",
            "  [ 1.38862150e+02  1.37557248e+02  8.61373390e+01  8.29550008e+01]\n",
            "  [ 1.76193622e+02  1.77128971e+02  1.10395133e+02  1.07933968e+02]\n",
            "  [ 2.22836157e+02 -1.00000000e+02  1.40591946e+02  1.37597038e+02]]\n",
            "\n",
            " [[-2.19875606e+00 -2.79483917e+00 -4.72069141e+00 -1.00000000e+02]\n",
            "  [ 1.66026589e-01  1.69804683e+00 -4.55085882e+00 -4.84959986e+00]\n",
            "  [ 3.77981655e-01  3.54743217e+00 -1.80690339e+00 -2.74594487e+00]\n",
            "  [ 5.58794393e+00  5.86584058e+00 -3.17875607e-01  1.66617399e+00]\n",
            "  [ 8.69097626e+00  6.93503674e+00  1.46037681e+00  3.57904267e+00]\n",
            "  [ 1.36887050e+01  1.37334068e+01  3.16661754e+00  5.87639097e+00]\n",
            "  [ 2.22583155e+01  1.83755707e+01  7.83763981e+00  6.91866747e+00]\n",
            "  [ 2.81971486e+01  2.80458776e+01  1.34604351e+01  1.37063591e+01]\n",
            "  [ 3.91128647e+01  4.02222276e+01  2.07330485e+01  1.84424460e+01]\n",
            "  [ 5.15540585e+01  5.16076423e+01  3.10890508e+01  2.80783367e+01]\n",
            "  [ 6.70906848e+01  6.46246323e+01  3.91953814e+01  4.01814703e+01]\n",
            "  [ 8.29759983e+01  8.60958875e+01  5.00805962e+01  5.15549563e+01]\n",
            "  [ 1.07954791e+02  1.10373414e+02  6.76119483e+01  6.46983423e+01]\n",
            "  [ 1.37599128e+02  1.40601564e+02  8.61613644e+01  8.61174437e+01]\n",
            "  [ 1.77137080e+02 -1.00000000e+02  1.08377139e+02  1.10338121e+02]]\n",
            "\n",
            " [[-4.84246954e+00 -4.52723357e+00 -5.47678020e+00 -1.00000000e+02]\n",
            "  [-2.78886980e+00 -1.77661951e+00 -4.23548184e+00 -4.74995229e+00]\n",
            "  [ 1.63435675e+00 -3.27576588e-01 -2.54906884e+00 -4.54909269e+00]\n",
            "  [ 3.54106062e+00  1.46073721e+00 -2.42936744e+00 -1.77925071e+00]\n",
            "  [ 5.79001423e+00  3.17916093e+00 -9.58787900e-01 -2.93048043e-01]\n",
            "  [ 6.87463113e+00  7.84644730e+00  3.32446776e-01  1.39333086e+00]\n",
            "  [ 1.36725332e+01  1.34081116e+01  3.21940808e+00  3.17689280e+00]\n",
            "  [ 1.83727444e+01  2.07227324e+01  9.21378619e+00  7.83945160e+00]\n",
            "  [ 2.80422376e+01  3.10795165e+01  1.54876020e+01  1.34416547e+01]\n",
            "  [ 4.02130458e+01  3.91424749e+01  2.06477980e+01  2.07823835e+01]\n",
            "  [ 5.15857897e+01  5.00400560e+01  3.01760899e+01  3.10656570e+01]\n",
            "  [ 6.47851195e+01  6.77548564e+01  3.74939786e+01  3.91200386e+01]\n",
            "  [ 8.60905863e+01  8.60567243e+01  5.19129831e+01  5.00419412e+01]\n",
            "  [ 1.10371718e+02  1.08285186e+02  6.66586347e+01  6.76895841e+01]\n",
            "  [ 1.40632285e+02 -1.00000000e+02  8.44912237e+01  8.60994208e+01]]\n",
            "\n",
            " [[-4.72800419e+00 -4.20727940e+00 -5.62753718e+00 -1.00000000e+02]\n",
            "  [-4.51475887e+00 -2.58087811e+00 -4.41890654e+00 -5.46303851e+00]\n",
            "  [-1.80289060e+00 -2.46718446e+00 -5.16693100e+00 -4.15660235e+00]\n",
            "  [-2.96131841e-01 -1.03964798e+00 -3.11176274e+00 -2.53050996e+00]\n",
            "  [ 1.46426875e+00  4.53459658e-01 -5.06875930e+00 -2.46186531e+00]\n",
            "  [ 3.14854490e+00  3.26604454e+00 -1.76001551e+00 -9.25722357e-01]\n",
            "  [ 7.84580542e+00  9.25113688e+00  3.16107928e+00  4.76106984e-01]\n",
            "  [ 1.33884346e+01  1.54824139e+01  5.43473724e+00  3.24752730e+00]\n",
            "  [ 2.07629369e+01  2.07209709e+01  1.07168814e+01  9.19408901e+00]\n",
            "  [ 3.10581355e+01  3.01343729e+01  1.71023372e+01  1.55012700e+01]\n",
            "  [ 3.91716960e+01  3.73720231e+01  2.29464865e+01  2.06764680e+01]\n",
            "  [ 5.00665794e+01  5.19845288e+01  2.84518717e+01  3.01936707e+01]\n",
            "  [ 6.77130958e+01  6.65670410e+01  3.81968519e+01  3.73805800e+01]\n",
            "  [ 8.60854030e+01  8.45625553e+01  4.91172455e+01  5.19306862e+01]\n",
            "  [ 1.08368769e+02 -1.00000000e+02  6.45266020e+01  6.65938022e+01]]\n",
            "\n",
            " [[-5.46810568e+00 -4.42858914e+00 -6.60404268e+00 -1.00000000e+02]\n",
            "  [-4.17820678e+00 -5.19051043e+00 -5.64554555e+00 -5.64126837e+00]\n",
            "  [-2.57769563e+00 -3.07600614e+00 -5.29440035e+00 -4.46301541e+00]\n",
            "  [-2.42476381e+00 -5.09659828e+00 -6.54234616e+00 -5.27204841e+00]\n",
            "  [-1.03797459e+00 -1.69234486e+00 -7.30507643e+00 -3.10084963e+00]\n",
            "  [ 4.78297351e-01  3.13529864e+00 -3.85448428e+00 -5.02171569e+00]\n",
            "  [ 3.25857750e+00  5.42440936e+00  4.27788628e-01 -1.60157104e+00]\n",
            "  [ 9.26627268e+00  1.07120722e+01  3.29691243e+00  3.16347623e+00]\n",
            "  [ 1.55326745e+01  1.72632651e+01  6.98798018e+00  5.40325573e+00]\n",
            "  [ 2.06690640e+01  2.29449324e+01  1.26727451e+01  1.06829616e+01]\n",
            "  [ 3.01760281e+01  2.84507201e+01  1.61458448e+01  1.72148774e+01]\n",
            "  [ 3.73148492e+01  3.82758505e+01  2.13345257e+01  2.29125443e+01]\n",
            "  [ 5.19407029e+01  4.90123278e+01  2.94491154e+01  2.83574487e+01]\n",
            "  [ 6.66112487e+01  6.44680062e+01  3.78943833e+01  3.82803384e+01]\n",
            "  [ 8.45603060e+01 -1.00000000e+02  4.84212416e+01  4.91114897e+01]]\n",
            "\n",
            " [[-5.65259286e+00 -5.62659355e+00 -1.00000000e+02 -1.00000000e+02]\n",
            "  [-4.43670133e+00 -5.26065340e+00 -1.00000000e+02 -6.60331886e+00]\n",
            "  [-5.23557870e+00 -6.50144249e+00 -1.00000000e+02 -5.62183966e+00]\n",
            "  [-3.04524257e+00 -7.26306028e+00 -1.00000000e+02 -5.25281660e+00]\n",
            "  [-5.08014409e+00 -3.90231543e+00 -1.00000000e+02 -6.56981414e+00]\n",
            "  [-1.70681219e+00  3.55562117e-01 -1.00000000e+02 -7.26588878e+00]\n",
            "  [ 3.26231307e+00  3.25092520e+00 -1.00000000e+02 -4.04944094e+00]\n",
            "  [ 5.34091690e+00  6.93848191e+00 -1.00000000e+02  4.08204842e-01]\n",
            "  [ 1.07102201e+01  1.26924623e+01 -1.00000000e+02  3.38096092e+00]\n",
            "  [ 1.72383157e+01  1.62476929e+01 -1.00000000e+02  7.02219973e+00]\n",
            "  [ 2.29780941e+01  2.13865792e+01 -1.00000000e+02  1.26810568e+01]\n",
            "  [ 2.83391196e+01  2.94674937e+01 -1.00000000e+02  1.62478813e+01]\n",
            "  [ 3.82905899e+01  3.78600275e+01 -1.00000000e+02  2.13831355e+01]\n",
            "  [ 4.89791905e+01  4.83286366e+01 -1.00000000e+02  2.93674987e+01]\n",
            "  [ 6.44346801e+01 -1.00000000e+02 -1.00000000e+02  3.79456954e+01]]]\n"
          ],
          "name": "stdout"
        }
      ]
    },
    {
      "metadata": {
        "id": "8aYzhjwi8jge",
        "colab_type": "text"
      },
      "cell_type": "markdown",
      "source": [
        "## Action Inverse\n",
        "Function to determine the inverse of an action. For example, the inverse of up (N) action is down (S)."
      ]
    },
    {
      "metadata": {
        "id": "u2fpm9j8vHZf",
        "colab_type": "code",
        "colab": {}
      },
      "cell_type": "code",
      "source": [
        "def action_inverse(a):\n",
        "    if a == A_N:\n",
        "        return A_S\n",
        "    elif a == A_E:\n",
        "        return A_W\n",
        "    elif a == A_S:\n",
        "        return A_N\n",
        "    elif a == A_W:\n",
        "\n",
        "        return A_E"
      ],
      "execution_count": 0,
      "outputs": []
    },
    {
      "metadata": {
        "id": "9XAyuPsq8wcD",
        "colab_type": "text"
      },
      "cell_type": "markdown",
      "source": [
        "## Find optimal policy\n",
        "From the starting position, find a path that gives the most reward. The path is determined from the Q matrix.\n",
        "\n",
        "Note: There can't be two concurrent actions that are inverse of each other. Action Inverse function will be used for this rule."
      ]
    },
    {
      "metadata": {
        "id": "uC5y1uLs6LOg",
        "colab_type": "code",
        "outputId": "c717325e-1124-4222-9bd6-4d7f55f11db4",
        "colab": {
          "base_uri": "https://localhost:8080/",
          "height": 605
        }
      },
      "cell_type": "code",
      "source": [
        "optimal_policy = []\n",
        "s = start\n",
        "reward = 0\n",
        "length = 0\n",
        "a = None\n",
        "while s != goal:\n",
        "    if length > 1000:\n",
        "        break\n",
        "    A = valid_action(G, s)\n",
        "    if a != None:\n",
        "        A.remove(action_inverse(a))\n",
        "    sorted_A = np.argsort(Q[s])\n",
        "    sorted_A = sorted_A[np.isin(sorted_A, A)]\n",
        "    a = sorted_A[-1]\n",
        "    print('State: {} | Value: {} | Next Action: {}'.format(s, G[s], a))\n",
        "    reward += G[s]\n",
        "    length += 1\n",
        "    optimal_policy.append((s, a))\n",
        "    s = next_state(G, s, a)\n",
        "else:\n",
        "    print('State: {} | Value: {}'.format(s, G[s]))\n",
        "    reward += G[s]\n",
        "\n",
        "print('\\nTotal Reward: ', reward)\n",
        "print('Path Length :', length)"
      ],
      "execution_count": 12,
      "outputs": [
        {
          "output_type": "stream",
          "text": [
            "State: (14, 0) | Value: -2 | Next Action: 1\n",
            "State: (14, 1) | Value: -2 | Next Action: 0\n",
            "State: (13, 1) | Value: -1 | Next Action: 0\n",
            "State: (12, 1) | Value: -2 | Next Action: 1\n",
            "State: (12, 2) | Value: -1 | Next Action: 0\n",
            "State: (11, 2) | Value: -3 | Next Action: 0\n",
            "State: (10, 2) | Value: -1 | Next Action: 1\n",
            "State: (10, 3) | Value: -1 | Next Action: 1\n",
            "State: (10, 4) | Value: -1 | Next Action: 0\n",
            "State: (9, 4) | Value: -3 | Next Action: 0\n",
            "State: (8, 4) | Value: -3 | Next Action: 1\n",
            "State: (8, 5) | Value: -3 | Next Action: 1\n",
            "State: (8, 6) | Value: -1 | Next Action: 0\n",
            "State: (7, 6) | Value: -1 | Next Action: 0\n",
            "State: (6, 6) | Value: -2 | Next Action: 1\n",
            "State: (6, 7) | Value: -1 | Next Action: 0\n",
            "State: (5, 7) | Value: -2 | Next Action: 1\n",
            "State: (5, 8) | Value: -2 | Next Action: 1\n",
            "State: (5, 9) | Value: -1 | Next Action: 1\n",
            "State: (5, 10) | Value: -1 | Next Action: 0\n",
            "State: (4, 10) | Value: -1 | Next Action: 1\n",
            "State: (4, 11) | Value: -3 | Next Action: 0\n",
            "State: (3, 11) | Value: -1 | Next Action: 0\n",
            "State: (2, 11) | Value: -1 | Next Action: 1\n",
            "State: (2, 12) | Value: -2 | Next Action: 0\n",
            "State: (1, 12) | Value: -2 | Next Action: 1\n",
            "State: (1, 13) | Value: -2 | Next Action: 1\n",
            "State: (1, 14) | Value: -1 | Next Action: 0\n",
            "State: (0, 14) | Value: 500\n",
            "\n",
            "Total Reward:  453\n",
            "Path Length : 28\n"
          ],
          "name": "stdout"
        }
      ]
    },
    {
      "metadata": {
        "id": "DSekaR_Z9diC",
        "colab_type": "text"
      },
      "cell_type": "markdown",
      "source": [
        "## Draw the optimal path to a heatmap"
      ]
    },
    {
      "metadata": {
        "id": "zu6hk42m0fqq",
        "colab_type": "code",
        "outputId": "e47b13fd-6048-4f2c-cd7b-68027007c9b0",
        "colab": {
          "base_uri": "https://localhost:8080/",
          "height": 274
        }
      },
      "cell_type": "code",
      "source": [
        "M = np.zeros(G.shape) # Map matrix\n",
        "\n",
        "path = [x[0] for x in optimal_policy]\n",
        "\n",
        "for i, p in enumerate(path):\n",
        "    if i == 0:\n",
        "        M[p] = 2\n",
        "    else:\n",
        "        M[p] = 3\n",
        "M[goal] = 4\n",
        "\n",
        "ax = sns.heatmap(M, vmax=20, cmap='tab20', linewidth=1, linecolor='black')"
      ],
      "execution_count": 13,
      "outputs": [
        {
          "output_type": "display_data",
          "data": {
            "image/png": "[encoded data removed]",
            "text/plain": [
              "<Figure size 432x288 with 2 Axes>"
            ]
          },
          "metadata": {
            "tags": []
          }
        }
      ]
    },
    {
      "metadata": {
        "id": "zsCktJUvYEAS",
        "colab_type": "text"
      },
      "cell_type": "markdown",
      "source": [
        ""
      ]
    }
  ]
}